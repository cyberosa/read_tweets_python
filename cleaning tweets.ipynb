{
 "cells": [
  {
   "cell_type": "markdown",
   "metadata": {},
   "source": [
    "# Load and explore"
   ]
  },
  {
   "cell_type": "code",
   "execution_count": 7,
   "metadata": {},
   "outputs": [],
   "source": [
    "import pandas as pd\n",
    "tweets_en_df = pd.read_csv(\"tweets_sample_en.csv\", sep='\\t')"
   ]
  },
  {
   "cell_type": "code",
   "execution_count": 8,
   "metadata": {},
   "outputs": [
    {
     "data": {
      "text/html": [
       "<div>\n",
       "<style scoped>\n",
       "    .dataframe tbody tr th:only-of-type {\n",
       "        vertical-align: middle;\n",
       "    }\n",
       "\n",
       "    .dataframe tbody tr th {\n",
       "        vertical-align: top;\n",
       "    }\n",
       "\n",
       "    .dataframe thead th {\n",
       "        text-align: right;\n",
       "    }\n",
       "</style>\n",
       "<table border=\"1\" class=\"dataframe\">\n",
       "  <thead>\n",
       "    <tr style=\"text-align: right;\">\n",
       "      <th></th>\n",
       "      <th>Unnamed: 0</th>\n",
       "      <th>created_at</th>\n",
       "      <th>text</th>\n",
       "      <th>id</th>\n",
       "    </tr>\n",
       "  </thead>\n",
       "  <tbody>\n",
       "    <tr>\n",
       "      <th>0</th>\n",
       "      <td>0</td>\n",
       "      <td>Tue Jun 16 16:30:49 +0000 2020</td>\n",
       "      <td>20 After life 😁 #IndiaChinaFaceOff</td>\n",
       "      <td>1272929635551109120</td>\n",
       "    </tr>\n",
       "    <tr>\n",
       "      <th>1</th>\n",
       "      <td>1</td>\n",
       "      <td>Tue Jun 16 16:30:49 +0000 2020</td>\n",
       "      <td>RT @lewis_goodall: Govt has partly defended it...</td>\n",
       "      <td>1272929635538481154</td>\n",
       "    </tr>\n",
       "    <tr>\n",
       "      <th>2</th>\n",
       "      <td>2</td>\n",
       "      <td>Tue Jun 16 16:30:49 +0000 2020</td>\n",
       "      <td>RT @teachaged: So, my sister and I are 59 toda...</td>\n",
       "      <td>1272929635546742785</td>\n",
       "    </tr>\n",
       "    <tr>\n",
       "      <th>3</th>\n",
       "      <td>3</td>\n",
       "      <td>Tue Jun 16 16:30:49 +0000 2020</td>\n",
       "      <td>RT @lovelyluupin: this video enrages me i hate...</td>\n",
       "      <td>1272929635542593536</td>\n",
       "    </tr>\n",
       "    <tr>\n",
       "      <th>4</th>\n",
       "      <td>4</td>\n",
       "      <td>Tue Jun 16 16:30:49 +0000 2020</td>\n",
       "      <td>RT @relic_crusher: a couple of cool down weddi...</td>\n",
       "      <td>1272929635550900225</td>\n",
       "    </tr>\n",
       "  </tbody>\n",
       "</table>\n",
       "</div>"
      ],
      "text/plain": [
       "   Unnamed: 0                      created_at  \\\n",
       "0           0  Tue Jun 16 16:30:49 +0000 2020   \n",
       "1           1  Tue Jun 16 16:30:49 +0000 2020   \n",
       "2           2  Tue Jun 16 16:30:49 +0000 2020   \n",
       "3           3  Tue Jun 16 16:30:49 +0000 2020   \n",
       "4           4  Tue Jun 16 16:30:49 +0000 2020   \n",
       "\n",
       "                                                text                   id  \n",
       "0                 20 After life 😁 #IndiaChinaFaceOff  1272929635551109120  \n",
       "1  RT @lewis_goodall: Govt has partly defended it...  1272929635538481154  \n",
       "2  RT @teachaged: So, my sister and I are 59 toda...  1272929635546742785  \n",
       "3  RT @lovelyluupin: this video enrages me i hate...  1272929635542593536  \n",
       "4  RT @relic_crusher: a couple of cool down weddi...  1272929635550900225  "
      ]
     },
     "execution_count": 8,
     "metadata": {},
     "output_type": "execute_result"
    }
   ],
   "source": [
    "tweets_en_df.head()"
   ]
  },
  {
   "cell_type": "code",
   "execution_count": 9,
   "metadata": {},
   "outputs": [
    {
     "name": "stdout",
     "output_type": "stream",
     "text": [
      "<class 'pandas.core.frame.DataFrame'>\n",
      "RangeIndex: 150001 entries, 0 to 150000\n",
      "Data columns (total 4 columns):\n",
      " #   Column      Non-Null Count   Dtype \n",
      "---  ------      --------------   ----- \n",
      " 0   Unnamed: 0  150001 non-null  int64 \n",
      " 1   created_at  150001 non-null  object\n",
      " 2   text        150001 non-null  object\n",
      " 3   id          150001 non-null  int64 \n",
      "dtypes: int64(2), object(2)\n",
      "memory usage: 4.6+ MB\n"
     ]
    }
   ],
   "source": [
    "tweets_en_df.info()"
   ]
  },
  {
   "cell_type": "code",
   "execution_count": 10,
   "metadata": {},
   "outputs": [],
   "source": [
    "tweets_en_df['created_at'] = pd.to_datetime(tweets_en_df['created_at'])"
   ]
  },
  {
   "cell_type": "code",
   "execution_count": 11,
   "metadata": {},
   "outputs": [
    {
     "data": {
      "text/html": [
       "<div>\n",
       "<style scoped>\n",
       "    .dataframe tbody tr th:only-of-type {\n",
       "        vertical-align: middle;\n",
       "    }\n",
       "\n",
       "    .dataframe tbody tr th {\n",
       "        vertical-align: top;\n",
       "    }\n",
       "\n",
       "    .dataframe thead th {\n",
       "        text-align: right;\n",
       "    }\n",
       "</style>\n",
       "<table border=\"1\" class=\"dataframe\">\n",
       "  <thead>\n",
       "    <tr style=\"text-align: right;\">\n",
       "      <th></th>\n",
       "      <th>Unnamed: 0</th>\n",
       "      <th>id</th>\n",
       "    </tr>\n",
       "  </thead>\n",
       "  <tbody>\n",
       "    <tr>\n",
       "      <th>count</th>\n",
       "      <td>150001.000000</td>\n",
       "      <td>1.500010e+05</td>\n",
       "    </tr>\n",
       "    <tr>\n",
       "      <th>mean</th>\n",
       "      <td>75000.000000</td>\n",
       "      <td>1.272949e+18</td>\n",
       "    </tr>\n",
       "    <tr>\n",
       "      <th>std</th>\n",
       "      <td>43301.703202</td>\n",
       "      <td>8.897664e+12</td>\n",
       "    </tr>\n",
       "    <tr>\n",
       "      <th>min</th>\n",
       "      <td>0.000000</td>\n",
       "      <td>1.272930e+18</td>\n",
       "    </tr>\n",
       "    <tr>\n",
       "      <th>25%</th>\n",
       "      <td>37500.000000</td>\n",
       "      <td>1.272942e+18</td>\n",
       "    </tr>\n",
       "    <tr>\n",
       "      <th>50%</th>\n",
       "      <td>75000.000000</td>\n",
       "      <td>1.272949e+18</td>\n",
       "    </tr>\n",
       "    <tr>\n",
       "      <th>75%</th>\n",
       "      <td>112500.000000</td>\n",
       "      <td>1.272956e+18</td>\n",
       "    </tr>\n",
       "    <tr>\n",
       "      <th>max</th>\n",
       "      <td>150000.000000</td>\n",
       "      <td>1.272965e+18</td>\n",
       "    </tr>\n",
       "  </tbody>\n",
       "</table>\n",
       "</div>"
      ],
      "text/plain": [
       "          Unnamed: 0            id\n",
       "count  150001.000000  1.500010e+05\n",
       "mean    75000.000000  1.272949e+18\n",
       "std     43301.703202  8.897664e+12\n",
       "min         0.000000  1.272930e+18\n",
       "25%     37500.000000  1.272942e+18\n",
       "50%     75000.000000  1.272949e+18\n",
       "75%    112500.000000  1.272956e+18\n",
       "max    150000.000000  1.272965e+18"
      ]
     },
     "execution_count": 11,
     "metadata": {},
     "output_type": "execute_result"
    }
   ],
   "source": [
    "tweets_en_df.describe()"
   ]
  },
  {
   "cell_type": "code",
   "execution_count": 12,
   "metadata": {},
   "outputs": [
    {
     "name": "stdout",
     "output_type": "stream",
     "text": [
      "<class 'pandas.core.frame.DataFrame'>\n",
      "RangeIndex: 150001 entries, 0 to 150000\n",
      "Data columns (total 4 columns):\n",
      " #   Column      Non-Null Count   Dtype              \n",
      "---  ------      --------------   -----              \n",
      " 0   Unnamed: 0  150001 non-null  int64              \n",
      " 1   created_at  150001 non-null  datetime64[ns, UTC]\n",
      " 2   text        150001 non-null  object             \n",
      " 3   id          150001 non-null  int64              \n",
      "dtypes: datetime64[ns, UTC](1), int64(2), object(1)\n",
      "memory usage: 4.6+ MB\n"
     ]
    }
   ],
   "source": [
    "tweets_en_df.info()"
   ]
  },
  {
   "cell_type": "markdown",
   "metadata": {},
   "source": [
    "Let´s take only the text column and start the cleaning."
   ]
  },
  {
   "cell_type": "code",
   "execution_count": 24,
   "metadata": {},
   "outputs": [],
   "source": [
    "tweets_text = tweets_en_df['text']"
   ]
  },
  {
   "cell_type": "code",
   "execution_count": 25,
   "metadata": {},
   "outputs": [
    {
     "data": {
      "text/plain": [
       "0                   20 After life 😁 #IndiaChinaFaceOff\n",
       "1    RT @lewis_goodall: Govt has partly defended it...\n",
       "2    RT @teachaged: So, my sister and I are 59 toda...\n",
       "3    RT @lovelyluupin: this video enrages me i hate...\n",
       "4    RT @relic_crusher: a couple of cool down weddi...\n",
       "Name: text, dtype: object"
      ]
     },
     "execution_count": 25,
     "metadata": {},
     "output_type": "execute_result"
    }
   ],
   "source": [
    "tweets_text.head()"
   ]
  },
  {
   "cell_type": "markdown",
   "metadata": {},
   "source": [
    "# Cleaning the text"
   ]
  },
  {
   "cell_type": "code",
   "execution_count": 26,
   "metadata": {},
   "outputs": [],
   "source": [
    "import re\n",
    "from nltk.corpus import stopwords"
   ]
  },
  {
   "cell_type": "code",
   "execution_count": 27,
   "metadata": {},
   "outputs": [
    {
     "data": {
      "text/plain": [
       "0                   20 After life 😁 #IndiaChinaFaceOff\n",
       "1      Govt has partly defended its schools policy ...\n",
       "2      So, my sister and I are 59 today (yep we’re ...\n",
       "3      this video enrages me i hate it\\n\\n https://...\n",
       "4      a couple of cool down wedding dress doodles ...\n",
       "Name: text, dtype: object"
      ]
     },
     "execution_count": 27,
     "metadata": {},
     "output_type": "execute_result"
    }
   ],
   "source": [
    "# remove all RT @<nickname>\n",
    "regex_pat = re.compile(r'RT @[\\w]+:')\n",
    "tweets_text = tweets_text.str.replace(regex_pat, ' ')\n",
    "tweets_text.head()"
   ]
  },
  {
   "cell_type": "code",
   "execution_count": 28,
   "metadata": {},
   "outputs": [],
   "source": [
    "# remove emails\n",
    "regex_pat = re.compile(r'\\S*@\\S*\\s?')\n",
    "tweets_text = tweets_text.str.replace(regex_pat, ' ')"
   ]
  },
  {
   "cell_type": "code",
   "execution_count": 29,
   "metadata": {},
   "outputs": [
    {
     "data": {
      "text/plain": [
       "0                   20 After life 😁 #IndiaChinaFaceOff\n",
       "1      Govt has partly defended its schools policy ...\n",
       "2      So, my sister and I are 59 today (yep we’re ...\n",
       "3                this video enrages me i hate it\\n\\n  \n",
       "4      a couple of cool down wedding dress doodles ...\n",
       "5      Jesus!  says he was only aware of the free s...\n",
       "6     #misinformation from the worst #CNNisFakeNews...\n",
       "7      Germaphobia is a MENTAL ILLNESS. We urgently...\n",
       "8      Rt’ing this because I feel like black people...\n",
       "9      I deserved Every L I ever took ... but I lea...\n",
       "Name: text, dtype: object"
      ]
     },
     "execution_count": 29,
     "metadata": {},
     "output_type": "execute_result"
    }
   ],
   "source": [
    "# remove urls\n",
    "regex_pat = re.compile(r'https?:\\/\\/.*[\\r\\n]*')\n",
    "tweets_text = tweets_text.str.replace(regex_pat, ' ')\n",
    "tweets_text.head(10)"
   ]
  },
  {
   "cell_type": "code",
   "execution_count": 31,
   "metadata": {},
   "outputs": [
    {
     "data": {
      "text/plain": [
       "0                   20 after life 😁 #indiachinafaceoff\n",
       "1      govt has partly defended its schools policy ...\n",
       "2      so, my sister and i are 59 today (yep we’re ...\n",
       "3                this video enrages me i hate it\\n\\n  \n",
       "4      a couple of cool down wedding dress doodles ...\n",
       "5      jesus!  says he was only aware of the free s...\n",
       "6     #misinformation from the worst #cnnisfakenews...\n",
       "7      germaphobia is a mental illness. we urgently...\n",
       "8      rt’ing this because i feel like black people...\n",
       "9      i deserved every l i ever took ... but i lea...\n",
       "Name: text, dtype: object"
      ]
     },
     "execution_count": 31,
     "metadata": {},
     "output_type": "execute_result"
    }
   ],
   "source": [
    "# convert to lower case\n",
    "tweets_text = tweets_text.str.lower()\n",
    "tweets_text.head(10)"
   ]
  },
  {
   "cell_type": "markdown",
   "metadata": {},
   "source": [
    "# Remove stopwords"
   ]
  },
  {
   "cell_type": "code",
   "execution_count": 36,
   "metadata": {},
   "outputs": [
    {
     "data": {
      "text/plain": [
       "0                        after life  indiachinafaceoff\n",
       "1      govt has partly defended its schools policy ...\n",
       "2      so my sister and i are  today yep were twins...\n",
       "3                this video enrages me i hate it\\n\\n  \n",
       "4      a couple of cool down wedding dress doodles ...\n",
       "5      jesus  says he was only aware of the free sc...\n",
       "6     misinformation from the worst cnnisfakenews w...\n",
       "7      germaphobia is a mental illness we urgently ...\n",
       "8      rting this because i feel like black people ...\n",
       "9      i deserved every l i ever took  but i learne...\n",
       "Name: text, dtype: object"
      ]
     },
     "execution_count": 36,
     "metadata": {},
     "output_type": "execute_result"
    }
   ],
   "source": [
    "# keep only words\n",
    "regex_pat = re.compile(r'[^a-zA-Z\\s]', flags=re.IGNORECASE)\n",
    "tweets_text = tweets_text.str.replace(regex_pat, '')\n",
    "tweets_text.head(10)"
   ]
  },
  {
   "cell_type": "code",
   "execution_count": 37,
   "metadata": {},
   "outputs": [
    {
     "data": {
      "text/plain": [
       "0                     [after, life, indiachinafaceoff]\n",
       "1    [govt, has, partly, defended, its, schools, po...\n",
       "2    [so, my, sister, and, i, are, today, yep, were...\n",
       "3              [this, video, enrages, me, i, hate, it]\n",
       "4    [a, couple, of, cool, down, wedding, dress, do...\n",
       "5    [jesus, says, he, was, only, aware, of, the, f...\n",
       "6    [misinformation, from, the, worst, cnnisfakene...\n",
       "7    [germaphobia, is, a, mental, illness, we, urge...\n",
       "8    [rting, this, because, i, feel, like, black, p...\n",
       "9    [i, deserved, every, l, i, ever, took, but, i,...\n",
       "Name: text, dtype: object"
      ]
     },
     "execution_count": 37,
     "metadata": {},
     "output_type": "execute_result"
    }
   ],
   "source": [
    "tweets_text = tweets_text.apply(lambda x: x.split())\n",
    "tweets_text.head(10)"
   ]
  },
  {
   "cell_type": "code",
   "execution_count": 38,
   "metadata": {},
   "outputs": [
    {
     "data": {
      "text/plain": [
       "0                            [life, indiachinafaceoff]\n",
       "1    [govt, partly, defended, schools, policy, sayi...\n",
       "2    [sister, today, yep, twins, identical, look, b...\n",
       "3                               [video, enrages, hate]\n",
       "4         [couple, cool, wedding, dress, doodles, uuu]\n",
       "5    [jesus, says, aware, free, school, meals, camp...\n",
       "6    [misinformation, worst, cnnisfakenews, protest...\n",
       "7    [germaphobia, mental, illness, urgently, need,...\n",
       "8    [rting, feel, like, black, people, die, police...\n",
       "9    [deserved, every, l, ever, took, learned, mist...\n",
       "Name: text, dtype: object"
      ]
     },
     "execution_count": 38,
     "metadata": {},
     "output_type": "execute_result"
    }
   ],
   "source": [
    "stopword_set = set(stopwords.words(\"english\"))\n",
    "# remove stopwords\n",
    "tweets_text = tweets_text.apply(lambda x: [item for item in x if item not in stopword_set])\n",
    "tweets_text.head(10)"
   ]
  },
  {
   "cell_type": "markdown",
   "metadata": {},
   "source": [
    "Now your dataset is ready to be used for any NLP model. You might need to tokenize or apply any other NLP preprocessing steps depending on the final application."
   ]
  }
 ],
 "metadata": {
  "kernelspec": {
   "display_name": "Python 3",
   "language": "python",
   "name": "python3"
  },
  "language_info": {
   "codemirror_mode": {
    "name": "ipython",
    "version": 3
   },
   "file_extension": ".py",
   "mimetype": "text/x-python",
   "name": "python",
   "nbconvert_exporter": "python",
   "pygments_lexer": "ipython3",
   "version": "3.7.7"
  }
 },
 "nbformat": 4,
 "nbformat_minor": 2
}
